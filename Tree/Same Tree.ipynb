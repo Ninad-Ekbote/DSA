{
 "cells": [
  {
   "cell_type": "code",
   "execution_count": 3,
   "id": "86432100",
   "metadata": {},
   "outputs": [],
   "source": [
    "def isSameTree(p, q) -> bool:\n",
    "    \n",
    "    '''\n",
    "    This function tells if two trees are same or not\n",
    "    \n",
    "    Args:-\n",
    "    p: TreeNode, q: TreeNode\n",
    "    \n",
    "    Time Complexity :- O(n)\n",
    "    Space Complexity :- O(n) # if we include the recursive stack\n",
    "    '''\n",
    "\n",
    "    def dfs(root_1,root_2):\n",
    "\n",
    "        if root_1 is None and root_2 is None:\n",
    "            return True\n",
    "\n",
    "        if (root_1 is None and root_2 is not None) or (root_2 is None and root_1 is not None):\n",
    "            return False\n",
    "\n",
    "        if root_1.val != root_2.val:\n",
    "            return False\n",
    "\n",
    "            \n",
    "\n",
    "\n",
    "        return dfs(root_1.left,root_2.left) and dfs(root_1.right,root_2.right) \n",
    "\n",
    "        \n",
    "\n",
    "    return dfs(p,q)"
   ]
  }
 ],
 "metadata": {
  "kernelspec": {
   "display_name": "Python 3 (ipykernel)",
   "language": "python",
   "name": "python3"
  },
  "language_info": {
   "codemirror_mode": {
    "name": "ipython",
    "version": 3
   },
   "file_extension": ".py",
   "mimetype": "text/x-python",
   "name": "python",
   "nbconvert_exporter": "python",
   "pygments_lexer": "ipython3",
   "version": "3.9.13"
  }
 },
 "nbformat": 4,
 "nbformat_minor": 5
}
